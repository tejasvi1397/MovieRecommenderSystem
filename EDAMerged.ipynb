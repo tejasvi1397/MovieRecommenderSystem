{
 "cells": [
  {
   "cell_type": "code",
   "execution_count": null,
   "metadata": {},
   "outputs": [],
   "source": [
    "import pandas as pd\n",
    "import numpy as np\n",
    "import matplotlib.pyplot as plt\n",
    "%matplotlib inline\n",
    "import seaborn as sns"
   ]
  },
  {
   "cell_type": "code",
   "execution_count": null,
   "metadata": {},
   "outputs": [],
   "source": [
    "# Reading movies file and creating dataframe \n",
    "tmdb_movies_df = pd.read_csv('tmdb-movie-metadata/tmdb_5000_movies.csv')"
   ]
  },
  {
   "cell_type": "code",
   "execution_count": null,
   "metadata": {},
   "outputs": [],
   "source": [
    "# getting head of dataframe\n",
    "tmdb_movies_df.head()"
   ]
  },
  {
   "cell_type": "code",
   "execution_count": null,
   "metadata": {},
   "outputs": [],
   "source": [
    "# getting shape of dataframe\n",
    "tmdb_movies_df.shape"
   ]
  },
  {
   "cell_type": "code",
   "execution_count": null,
   "metadata": {},
   "outputs": [],
   "source": [
    "# getting info of dataframe\n",
    "tmdb_movies_df.info()"
   ]
  },
  {
   "cell_type": "code",
   "execution_count": null,
   "metadata": {},
   "outputs": [],
   "source": [
    "# getting description of dataframe\n",
    "tmdb_movies_df.describe()"
   ]
  },
  {
   "cell_type": "code",
   "execution_count": null,
   "metadata": {},
   "outputs": [],
   "source": [
    "# Getting movies where original_title is not equal to title\n",
    "tmdb_movies_df[tmdb_movies_df['original_title'] != tmdb_movies_df['title']].head()"
   ]
  },
  {
   "cell_type": "code",
   "execution_count": null,
   "metadata": {},
   "outputs": [],
   "source": [
    "arr_bar = np.array([len(tmdb_movies_df[tmdb_movies_df['original_title'] != tmdb_movies_df['title']]),len(tmdb_movies_df[tmdb_movies_df['original_title'] == tmdb_movies_df['title']])])"
   ]
  },
  {
   "cell_type": "code",
   "execution_count": null,
   "metadata": {},
   "outputs": [],
   "source": [
    "# Content of array\n",
    "arr_bar"
   ]
  },
  {
   "cell_type": "code",
   "execution_count": null,
   "metadata": {},
   "outputs": [],
   "source": [
    "# Shape of array\n",
    "arr_bar.shape"
   ]
  },
  {
   "cell_type": "code",
   "execution_count": null,
   "metadata": {},
   "outputs": [],
   "source": [
    "# Plotting where Original Title is equal to Title and not equal to Title\n",
    "plt.bar(['Original != Title','Original = Title'],arr_bar)\n",
    "plt.xlabel('Original or Not', fontsize=10)\n",
    "plt.ylabel('Number of Movies', fontsize=10)\n",
    "plt.show()"
   ]
  },
  {
   "cell_type": "code",
   "execution_count": null,
   "metadata": {},
   "outputs": [],
   "source": [
    "# Dropping Original Title column, as for mostly all the movies Original Title is equal to Title\n",
    "tmdb_movies_df = tmdb_movies_df.drop('original_title', axis = 1)"
   ]
  },
  {
   "cell_type": "code",
   "execution_count": null,
   "metadata": {
    "scrolled": true
   },
   "outputs": [],
   "source": [
    "# Getting head of dataframe\n",
    "tmdb_movies_df.head(3)"
   ]
  },
  {
   "cell_type": "code",
   "execution_count": null,
   "metadata": {
    "scrolled": false
   },
   "outputs": [],
   "source": [
    "# Getting count of values in Status columns\n",
    "tmdb_movies_df['status'].value_counts()"
   ]
  },
  {
   "cell_type": "code",
   "execution_count": null,
   "metadata": {},
   "outputs": [],
   "source": [
    "#status not imp as almost all are released so can be dropped\n",
    "tmdb_movies_df = tmdb_movies_df.drop('status', axis = 1)"
   ]
  },
  {
   "cell_type": "code",
   "execution_count": null,
   "metadata": {},
   "outputs": [],
   "source": [
    "#tagline for the movies are specifiv to them so can be dropped\n",
    "tmdb_movies_df = tmdb_movies_df.drop('tagline', axis = 1)"
   ]
  },
  {
   "cell_type": "code",
   "execution_count": null,
   "metadata": {},
   "outputs": [],
   "source": [
    "#homepage column had a large number of missing values so can be dropped\n",
    "tmdb_movies_df = tmdb_movies_df.drop('homepage', axis = 1)"
   ]
  },
  {
   "cell_type": "code",
   "execution_count": null,
   "metadata": {},
   "outputs": [],
   "source": [
    "# getting info of dataframe\n",
    "tmdb_movies_df.info()"
   ]
  },
  {
   "cell_type": "code",
   "execution_count": null,
   "metadata": {},
   "outputs": [],
   "source": [
    "# Importing literal_eval to convert unstringify json objects\n",
    "from ast import literal_eval"
   ]
  },
  {
   "cell_type": "code",
   "execution_count": null,
   "metadata": {},
   "outputs": [],
   "source": [
    "# Applying literal_eval on genres column and extracting genres from json object\n",
    "tmdb_movies_df['genres'] = tmdb_movies_df['genres'].apply(literal_eval)\n",
    "tmdb_movies_df['genres'] = tmdb_movies_df['genres'].apply(lambda x: [i['name'] for i in x])"
   ]
  },
  {
   "cell_type": "code",
   "execution_count": null,
   "metadata": {},
   "outputs": [],
   "source": [
    "# First value of genres column\n",
    "tmdb_movies_df['genres'][0]"
   ]
  },
  {
   "cell_type": "code",
   "execution_count": null,
   "metadata": {},
   "outputs": [],
   "source": [
    "# Genres Column\n",
    "tmdb_movies_df['genres']"
   ]
  },
  {
   "cell_type": "code",
   "execution_count": null,
   "metadata": {},
   "outputs": [],
   "source": [
    "# Converting Genres column to list \n",
    "genres_list = tmdb_movies_df['genres'].tolist()"
   ]
  },
  {
   "cell_type": "code",
   "execution_count": null,
   "metadata": {},
   "outputs": [],
   "source": [
    "# Getting unique list of genres\n",
    "genres_list_unique = []\n",
    "for i in genres_list:\n",
    "    for j in i:\n",
    "        if(j not in genres_list_unique):\n",
    "            genres_list_unique.append(j)"
   ]
  },
  {
   "cell_type": "code",
   "execution_count": null,
   "metadata": {},
   "outputs": [],
   "source": [
    "# unique list of genres\n",
    "genres_list_unique"
   ]
  },
  {
   "cell_type": "code",
   "execution_count": null,
   "metadata": {},
   "outputs": [],
   "source": [
    "# length of unique list of genres\n",
    "len(genres_list_unique)"
   ]
  },
  {
   "cell_type": "code",
   "execution_count": null,
   "metadata": {},
   "outputs": [],
   "source": [
    "# Function to calculate count of each genre\n",
    "def calculate_genre_counts():\n",
    "    genre_counts = []\n",
    "    count_action = 0\n",
    "    count_adventure = 0\n",
    "    count_fantasy = 0\n",
    "    count_sciencefiction = 0\n",
    "    count_crime = 0\n",
    "    count_drama = 0\n",
    "    count_thriller = 0\n",
    "    count_animation = 0\n",
    "    count_family = 0\n",
    "    count_western = 0\n",
    "    count_comedy = 0\n",
    "    count_romance = 0\n",
    "    count_horror = 0\n",
    "    count_mystery = 0\n",
    "    count_history = 0\n",
    "    count_war = 0\n",
    "    count_music = 0\n",
    "    count_documentary = 0\n",
    "    count_foreign = 0\n",
    "    count_tvmovie = 0\n",
    "    for i in genres_list:\n",
    "        for j in i:\n",
    "            if(j == 'Action'):\n",
    "                count_action += 1\n",
    "            elif(j == 'Adventure'):\n",
    "                count_adventure += 1\n",
    "            elif(j == 'Fantasy'):\n",
    "                count_fantasy += 1\n",
    "            elif(j == 'Science Fiction'):\n",
    "                count_sciencefiction += 1\n",
    "            elif(j == 'Crime'):\n",
    "                count_crime += 1\n",
    "            elif(j == 'Drama'):\n",
    "                count_drama += 1\n",
    "            elif(j == 'Thriller'):\n",
    "                count_thriller += 1\n",
    "            elif(j == 'Animation'):\n",
    "                count_animation += 1\n",
    "            elif(j == 'Family'):\n",
    "                count_family += 1\n",
    "            elif(j == 'Western'):\n",
    "                count_western += 1\n",
    "            elif(j == 'Comedy'):\n",
    "                count_comedy += 1\n",
    "            elif(j == 'Romance'):\n",
    "                count_romance += 1\n",
    "            elif(j == 'Horror'):\n",
    "                count_horror += 1\n",
    "            elif(j == 'Mystery'):\n",
    "                count_mystery += 1\n",
    "            elif(j == 'History'):\n",
    "                count_history += 1\n",
    "            elif(j == 'War'):\n",
    "                count_war += 1\n",
    "            elif(j == 'Music'):\n",
    "                count_music += 1\n",
    "            elif(j == 'Documentary'):\n",
    "                count_documentary += 1\n",
    "            elif(j == 'Foreign'):\n",
    "                count_foreign += 1\n",
    "            elif(j == 'TV Movie'):\n",
    "                count_tvmovie += 1\n",
    "    genre_counts.extend([count_action,count_adventure,count_fantasy,count_sciencefiction,count_crime,count_drama,count_thriller,count_animation,count_family,count_western,count_comedy,count_romance,count_horror,count_mystery,count_history,count_war,count_music,count_documentary,count_foreign,count_tvmovie])\n",
    "    return genre_counts"
   ]
  },
  {
   "cell_type": "code",
   "execution_count": null,
   "metadata": {},
   "outputs": [],
   "source": [
    "# Calling calculate_genre_counts function nad storing reults in genre_counts\n",
    "genre_counts = calculate_genre_counts()"
   ]
  },
  {
   "cell_type": "code",
   "execution_count": null,
   "metadata": {},
   "outputs": [],
   "source": [
    "# Count of each genre respectively\n",
    "genre_counts"
   ]
  },
  {
   "cell_type": "code",
   "execution_count": null,
   "metadata": {},
   "outputs": [],
   "source": [
    "#bar graph for movie genre count\n",
    "index = np.arange(len(genres_list_unique))\n",
    "plt.figure(figsize=(12,6))\n",
    "plt.bar(index,genre_counts)\n",
    "plt.xlabel('Genres', fontsize=10)\n",
    "plt.ylabel('Number of Movies', fontsize=10)\n",
    "plt.xticks(index, genres_list_unique, fontsize=7, rotation=25)\n",
    "plt.title('Number of Movies for each Genre')\n",
    "plt.show()\n"
   ]
  },
  {
   "cell_type": "code",
   "execution_count": null,
   "metadata": {},
   "outputs": [],
   "source": [
    "# getting info of dataframe\n",
    "tmdb_movies_df.info()"
   ]
  },
  {
   "cell_type": "code",
   "execution_count": null,
   "metadata": {},
   "outputs": [],
   "source": [
    "# calculating language count\n",
    "movie_language_counts = tmdb_movies_df['original_language'].value_counts().head(10)"
   ]
  },
  {
   "cell_type": "code",
   "execution_count": null,
   "metadata": {},
   "outputs": [],
   "source": [
    "# language count\n",
    "movie_language_counts"
   ]
  },
  {
   "cell_type": "code",
   "execution_count": null,
   "metadata": {},
   "outputs": [],
   "source": [
    "# Top ten languages\n",
    "movie_langs_topten = ['English', 'French', 'Spanish', 'Chinese', 'German', 'Hindi', 'Japanese', 'Italian', 'Chinese (PRC)', 'Russian']"
   ]
  },
  {
   "cell_type": "code",
   "execution_count": null,
   "metadata": {},
   "outputs": [],
   "source": [
    "#bar graph for movie languages count\n",
    "index = np.arange(len(movie_langs_topten))\n",
    "plt.figure(figsize=(12,6))\n",
    "plt.bar(index,movie_language_counts)\n",
    "plt.xlabel('Languages', fontsize=10)\n",
    "plt.ylabel('Number of Movies', fontsize=10)\n",
    "plt.xticks(index, movie_langs_topten, fontsize=10, rotation=30)\n",
    "plt.title('Number of Movies for Top 10 Languages')\n",
    "plt.show()"
   ]
  },
  {
   "cell_type": "code",
   "execution_count": null,
   "metadata": {},
   "outputs": [],
   "source": [
    "# First value of column production_countries\n",
    "tmdb_movies_df['production_countries'][0]"
   ]
  },
  {
   "cell_type": "code",
   "execution_count": null,
   "metadata": {},
   "outputs": [],
   "source": [
    "# Applying literal_eval on production_countries column and extracting production_countries from json object\n",
    "tmdb_movies_df['production_countries'] = tmdb_movies_df['production_countries'].apply(literal_eval).apply(lambda x: [i['name'] for i in x])"
   ]
  },
  {
   "cell_type": "code",
   "execution_count": null,
   "metadata": {},
   "outputs": [],
   "source": [
    "# First value of column production_countries\n",
    "tmdb_movies_df['production_countries'][0]"
   ]
  },
  {
   "cell_type": "code",
   "execution_count": null,
   "metadata": {},
   "outputs": [],
   "source": [
    "# Converting production_countries column to list\n",
    "production_countries_list = tmdb_movies_df['production_countries'].tolist()"
   ]
  },
  {
   "cell_type": "code",
   "execution_count": null,
   "metadata": {},
   "outputs": [],
   "source": [
    "production_countries_list"
   ]
  },
  {
   "cell_type": "code",
   "execution_count": null,
   "metadata": {},
   "outputs": [],
   "source": [
    "# Getting unique list of production_countries\n",
    "production_countries_list_unique = []\n",
    "for i in production_countries_list:\n",
    "    for j in i:\n",
    "        if(j not in production_countries_list_unique):\n",
    "            production_countries_list_unique.append(j)"
   ]
  },
  {
   "cell_type": "code",
   "execution_count": null,
   "metadata": {},
   "outputs": [],
   "source": [
    "# length of unique list of genres\n",
    "len(production_countries_list_unique)"
   ]
  },
  {
   "cell_type": "code",
   "execution_count": null,
   "metadata": {},
   "outputs": [],
   "source": [
    "# Extracting production_countries into temp series\n",
    "temp = tmdb_movies_df.apply(lambda x: pd.Series(x['production_countries']),axis=1).stack().reset_index(level=1, drop=True)"
   ]
  },
  {
   "cell_type": "code",
   "execution_count": null,
   "metadata": {},
   "outputs": [],
   "source": [
    "# length of tmdb_movies_df dataframe\n",
    "len(tmdb_movies_df)"
   ]
  },
  {
   "cell_type": "code",
   "execution_count": null,
   "metadata": {},
   "outputs": [],
   "source": [
    "# Giving name to temp series\n",
    "temp.name = 'Production Countries'"
   ]
  },
  {
   "cell_type": "code",
   "execution_count": null,
   "metadata": {},
   "outputs": [],
   "source": [
    "#  getting count of values in temp series\n",
    "temp.value_counts()"
   ]
  },
  {
   "cell_type": "code",
   "execution_count": null,
   "metadata": {},
   "outputs": [],
   "source": [
    "#  Joining temp to tmdb_movies_df dataframe and creating temp_df\n",
    "temp_df = tmdb_movies_df.join(temp)"
   ]
  },
  {
   "cell_type": "code",
   "execution_count": null,
   "metadata": {},
   "outputs": [],
   "source": [
    "#  Top 10 Production countries count\n",
    "prod_countries_count = temp_df['Production Countries'].value_counts().head(10)"
   ]
  },
  {
   "cell_type": "code",
   "execution_count": null,
   "metadata": {},
   "outputs": [],
   "source": [
    "# Top ten production countries from index of prod_countries_count\n",
    "production_countries_topten = list(prod_countries_count.index)"
   ]
  },
  {
   "cell_type": "code",
   "execution_count": null,
   "metadata": {},
   "outputs": [],
   "source": [
    "# Top ten production countries\n",
    "production_countries_topten"
   ]
  },
  {
   "cell_type": "code",
   "execution_count": null,
   "metadata": {},
   "outputs": [],
   "source": [
    "#bar graph for production companies count\n",
    "index = np.arange(len(production_countries_topten))\n",
    "plt.figure(figsize=(12,6))\n",
    "plt.bar(index,prod_countries_count)\n",
    "plt.xlabel('Production Countries', fontsize=10)\n",
    "plt.ylabel('Number of Movies', fontsize=10)\n",
    "plt.xticks(index, production_countries_topten, fontsize=10, rotation=20)\n",
    "plt.title('Top 10 Production Countries')\n",
    "plt.show()"
   ]
  },
  {
   "cell_type": "code",
   "execution_count": null,
   "metadata": {},
   "outputs": [],
   "source": [
    "#  getting info of movie dataframe\n",
    "tmdb_movies_df.info()"
   ]
  },
  {
   "cell_type": "code",
   "execution_count": null,
   "metadata": {},
   "outputs": [],
   "source": [
    "# Applying literal_eval on production_countries column and extracting production_countries from json object\n",
    "tmdb_movies_df['spoken_languages'] = tmdb_movies_df['spoken_languages'].apply(literal_eval).apply(lambda x: [i['name'] for i in x])"
   ]
  },
  {
   "cell_type": "code",
   "execution_count": null,
   "metadata": {},
   "outputs": [],
   "source": [
    "# spoken_languages column \n",
    "tmdb_movies_df['spoken_languages']"
   ]
  },
  {
   "cell_type": "code",
   "execution_count": null,
   "metadata": {},
   "outputs": [],
   "source": [
    "# Creating series of spoken_languages\n",
    "tempspoken = tmdb_movies_df.apply(lambda x: pd.Series(x['spoken_languages']),axis=1).stack().reset_index(level=1, drop=True)"
   ]
  },
  {
   "cell_type": "code",
   "execution_count": null,
   "metadata": {},
   "outputs": [],
   "source": [
    "#  Giving name to series\n",
    "tempspoken.name = 'Spoken Language'"
   ]
  },
  {
   "cell_type": "code",
   "execution_count": null,
   "metadata": {},
   "outputs": [],
   "source": [
    "#  Joining tempspoken to tmdb_movies_df dataframe and creating temp_df\n",
    "temp_df = tmdb_movies_df.join(tempspoken)"
   ]
  },
  {
   "cell_type": "code",
   "execution_count": null,
   "metadata": {},
   "outputs": [],
   "source": [
    "#  Getting count of top5 spoken languages\n",
    "spoken_lang_count = temp_df['Spoken Language'].value_counts().head(5)"
   ]
  },
  {
   "cell_type": "code",
   "execution_count": null,
   "metadata": {},
   "outputs": [],
   "source": [
    "#  Top 5 Spoken languages with count\n",
    "spoken_lang_count"
   ]
  },
  {
   "cell_type": "code",
   "execution_count": null,
   "metadata": {},
   "outputs": [],
   "source": [
    "# getting list of top5 sopken languages from spoken_lang_count index \n",
    "spoken_lang_topfive = list(spoken_lang_count.index)"
   ]
  },
  {
   "cell_type": "code",
   "execution_count": null,
   "metadata": {},
   "outputs": [],
   "source": [
    "#  Top 5 Spoken languages \n",
    "spoken_lang_topfive"
   ]
  },
  {
   "cell_type": "code",
   "execution_count": null,
   "metadata": {},
   "outputs": [],
   "source": [
    "#bar graph for spoken languages count\n",
    "index = np.arange(len(spoken_lang_topfive))\n",
    "plt.figure(figsize=(10,6))\n",
    "plt.bar(index,spoken_lang_count)\n",
    "plt.xlabel('Spoken Languages', fontsize=10)\n",
    "plt.ylabel('Number of Movies', fontsize=10)\n",
    "plt.xticks(index, spoken_lang_topfive, fontsize=10, rotation=30)\n",
    "plt.title('Top 5 Spoken Languages Movies')\n",
    "plt.show()\n",
    "%matplotlib inline"
   ]
  },
  {
   "cell_type": "code",
   "execution_count": null,
   "metadata": {},
   "outputs": [],
   "source": [
    "# Reading credits file and creating credits dataframe\n",
    "tmdb_credits_df = pd.read_csv('tmdb-movie-metadata/tmdb_5000_credits.csv')"
   ]
  },
  {
   "cell_type": "code",
   "execution_count": null,
   "metadata": {},
   "outputs": [],
   "source": [
    "# Applying literal_eval on cast column and extracting cast from json object\n",
    "tmdb_credits_df['cast'] = tmdb_credits_df['cast'].apply(literal_eval).apply(lambda x: [i['name'] for i in x])"
   ]
  },
  {
   "cell_type": "code",
   "execution_count": null,
   "metadata": {},
   "outputs": [],
   "source": [
    "# Getting head of credits dataframe\n",
    "tmdb_credits_df.head()"
   ]
  },
  {
   "cell_type": "code",
   "execution_count": null,
   "metadata": {},
   "outputs": [],
   "source": [
    "#  Creating series to calculate count of values of cast columns\n",
    "tempcast = tmdb_credits_df.apply(lambda x: pd.Series(x['cast']),axis=1).stack().reset_index(level=1, drop=True)\n",
    "tempcast.name = 'tempcast'\n",
    "temp_df = tmdb_credits_df.join(tempcast)\n",
    "cast_count = temp_df['tempcast'].value_counts().head(10)\n",
    "cast_count.values"
   ]
  },
  {
   "cell_type": "code",
   "execution_count": null,
   "metadata": {},
   "outputs": [],
   "source": [
    "# List of cast top 10\n",
    "cast_topten = list(cast_count.index)"
   ]
  },
  {
   "cell_type": "code",
   "execution_count": null,
   "metadata": {},
   "outputs": [],
   "source": [
    "# creating dataframe with columns cast and count\n",
    "cast_graph_df = pd.DataFrame({'Cast':cast_topten,'Count':cast_count.values},index = range(len(cast_topten)))"
   ]
  },
  {
   "cell_type": "code",
   "execution_count": null,
   "metadata": {},
   "outputs": [],
   "source": [
    "cast_graph_df"
   ]
  },
  {
   "cell_type": "code",
   "execution_count": null,
   "metadata": {},
   "outputs": [],
   "source": [
    "#bar graph for Top 10 Cast Movie count\n",
    "sns.set()\n",
    "plt.figure(figsize=(12,6))\n",
    "plt.title(\"Top 10 Cast Movie Count\")\n",
    "castgraph = sns.barplot(x = 'Cast', y = 'Count', data=cast_graph_df)\n",
    "for item in castgraph.get_xticklabels():\n",
    "    item.set_rotation(30)"
   ]
  },
  {
   "cell_type": "code",
   "execution_count": null,
   "metadata": {},
   "outputs": [],
   "source": [
    "# Pie plot of spoken_lang_count\n",
    "spoken_lang_count.plot.pie(figsize=(7, 7),autopct='%.2f')"
   ]
  },
  {
   "cell_type": "code",
   "execution_count": null,
   "metadata": {},
   "outputs": [],
   "source": [
    "# Pie plot of prod_countries_count\n",
    "prod_countries_count.plot.pie(figsize=(8, 8),autopct='%.2f')"
   ]
  },
  {
   "cell_type": "code",
   "execution_count": null,
   "metadata": {},
   "outputs": [],
   "source": [
    "genre_df = pd.DataFrame({'Count':genre_counts},index = genres_list_unique)"
   ]
  },
  {
   "cell_type": "code",
   "execution_count": null,
   "metadata": {},
   "outputs": [],
   "source": [
    "# Pie plot of genres\n",
    "genre_df.plot.pie(y=\"Count\",figsize=(10,10),autopct='%.2f')"
   ]
  },
  {
   "cell_type": "code",
   "execution_count": null,
   "metadata": {},
   "outputs": [],
   "source": [
    "origtitle_df = pd.DataFrame({'': [261, 4542]},\n",
    "                  index=['Different from Original Title', 'Same as Original Title'])"
   ]
  },
  {
   "cell_type": "code",
   "execution_count": null,
   "metadata": {},
   "outputs": [],
   "source": [
    "origtitle_df"
   ]
  },
  {
   "cell_type": "code",
   "execution_count": null,
   "metadata": {},
   "outputs": [],
   "source": [
    "# Pie plot of Tittle same as Original title and different from Original title\n",
    "origtitle_df.plot.pie(y=\"\",figsize=(8,8),autopct='%.2f')"
   ]
  },
  {
   "cell_type": "code",
   "execution_count": null,
   "metadata": {},
   "outputs": [],
   "source": [
    "# Applying literal_eval to crew column\n",
    "tmdb_credits_df['crew'] = tmdb_credits_df['crew'].apply(literal_eval)"
   ]
  },
  {
   "cell_type": "code",
   "execution_count": null,
   "metadata": {},
   "outputs": [],
   "source": [
    "tmdb_credits_df['crew']"
   ]
  },
  {
   "cell_type": "code",
   "execution_count": null,
   "metadata": {},
   "outputs": [],
   "source": [
    "# Extracting List of directors from the crew column\n",
    "director_list = []\n",
    "for i in tmdb_credits_df['crew']:\n",
    "    for j in i:\n",
    "        if(j['job'] == 'Director'):\n",
    "            director_list.append(j['name'])"
   ]
  },
  {
   "cell_type": "code",
   "execution_count": null,
   "metadata": {},
   "outputs": [],
   "source": [
    "#  length of Director list\n",
    "len(director_list)"
   ]
  },
  {
   "cell_type": "code",
   "execution_count": null,
   "metadata": {},
   "outputs": [],
   "source": [
    "# Creating series of direstor list, naming the series, joining it with credits dataframe and creating temp_df dataframe\n",
    "director_series = pd.Series(director_list)\n",
    "director_series.name = 'Director'\n",
    "temp_df = tmdb_credits_df.join(director_series)"
   ]
  },
  {
   "cell_type": "code",
   "execution_count": null,
   "metadata": {},
   "outputs": [],
   "source": [
    "# Top 10 directors by count\n",
    "director_series.value_counts().head(10)"
   ]
  },
  {
   "cell_type": "code",
   "execution_count": null,
   "metadata": {},
   "outputs": [],
   "source": [
    "director_count = director_series.value_counts().head(10).values"
   ]
  },
  {
   "cell_type": "code",
   "execution_count": null,
   "metadata": {},
   "outputs": [],
   "source": [
    "director_topten = list(director_series.value_counts().head(10).index)"
   ]
  },
  {
   "cell_type": "code",
   "execution_count": null,
   "metadata": {},
   "outputs": [],
   "source": [
    "director_count_df = pd.DataFrame({'Director':director_topten,'Count':director_count},index = range(len(director_topten)))"
   ]
  },
  {
   "cell_type": "code",
   "execution_count": null,
   "metadata": {},
   "outputs": [],
   "source": [
    "director_count_df"
   ]
  },
  {
   "cell_type": "code",
   "execution_count": null,
   "metadata": {},
   "outputs": [],
   "source": [
    "#director count graph\n",
    "sns.set()\n",
    "plt.figure(figsize=(12,6))\n",
    "plt.title(\"Top 10 Director's Count\")\n",
    "directorgraph = sns.barplot(x = 'Director', y = 'Count', data=director_count_df)\n",
    "for item in directorgraph.get_xticklabels():\n",
    "    item.set_rotation(20)"
   ]
  },
  {
   "cell_type": "code",
   "execution_count": null,
   "metadata": {},
   "outputs": [],
   "source": [
    "topten_budget_df = tmdb_movies_df.sort_values(by=['budget'], ascending = False)[['budget','title']].head(10)"
   ]
  },
  {
   "cell_type": "code",
   "execution_count": null,
   "metadata": {},
   "outputs": [],
   "source": [
    "topten_budget_df = topten_budget_df.rename(columns = {'title': 'Title','budget': 'Budget'})"
   ]
  },
  {
   "cell_type": "code",
   "execution_count": null,
   "metadata": {},
   "outputs": [],
   "source": [
    "topten_budget_df"
   ]
  },
  {
   "cell_type": "code",
   "execution_count": null,
   "metadata": {},
   "outputs": [],
   "source": [
    "#Budget top 10 graph\n",
    "sns.set()\n",
    "plt.figure(figsize=(12,6))\n",
    "plt.title(\"Top 10 Movie Budgets\")\n",
    "budgetgraph = sns.barplot(x = 'Title', y = 'Budget', data=topten_budget_df)\n",
    "for item in budgetgraph.get_xticklabels():\n",
    "    item.set_rotation(20)"
   ]
  },
  {
   "cell_type": "code",
   "execution_count": null,
   "metadata": {},
   "outputs": [],
   "source": [
    "topten_revenue_df = tmdb_movies_df.sort_values(by=['revenue'], ascending = False)[['revenue','title']].head(10)"
   ]
  },
  {
   "cell_type": "code",
   "execution_count": null,
   "metadata": {},
   "outputs": [],
   "source": [
    "topten_revenue_df = topten_revenue_df.rename(columns = {'title': 'Title','revenue': 'Revenue'})"
   ]
  },
  {
   "cell_type": "code",
   "execution_count": null,
   "metadata": {},
   "outputs": [],
   "source": [
    "topten_revenue_df"
   ]
  },
  {
   "cell_type": "code",
   "execution_count": null,
   "metadata": {},
   "outputs": [],
   "source": [
    "#Revenue top 10 graph\n",
    "sns.set()\n",
    "plt.figure(figsize=(12,6))\n",
    "plt.title(\"Top 10 Movie Revenues\")\n",
    "revenuegraph = sns.barplot(x = 'Title', y = 'Revenue', data=topten_revenue_df)\n",
    "for item in revenuegraph.get_xticklabels():\n",
    "    item.set_rotation(20)"
   ]
  },
  {
   "cell_type": "code",
   "execution_count": null,
   "metadata": {},
   "outputs": [],
   "source": [
    "tmdb_movies_df[tmdb_movies_df['revenue'].isnull()].head()"
   ]
  },
  {
   "cell_type": "code",
   "execution_count": null,
   "metadata": {},
   "outputs": [],
   "source": [
    "tmdb_movies_df['revenue'] = tmdb_movies_df['revenue'].replace(0, np.nan)"
   ]
  },
  {
   "cell_type": "code",
   "execution_count": null,
   "metadata": {},
   "outputs": [],
   "source": [
    "tmdb_movies_df['budget'] = pd.to_numeric(tmdb_movies_df['budget'], errors='coerce')"
   ]
  },
  {
   "cell_type": "code",
   "execution_count": null,
   "metadata": {},
   "outputs": [],
   "source": [
    "tmdb_movies_df['budget'] = tmdb_movies_df['budget'].replace(0, np.nan)"
   ]
  },
  {
   "cell_type": "code",
   "execution_count": null,
   "metadata": {},
   "outputs": [],
   "source": [
    "tmdb_movies_df[tmdb_movies_df['budget'].isnull()].head(3)"
   ]
  },
  {
   "cell_type": "code",
   "execution_count": null,
   "metadata": {},
   "outputs": [],
   "source": [
    "tmdb_movies_df['return'] = tmdb_movies_df['revenue'] / tmdb_movies_df['budget']"
   ]
  },
  {
   "cell_type": "code",
   "execution_count": null,
   "metadata": {},
   "outputs": [],
   "source": [
    "tmdb_movies_df.head(3)"
   ]
  },
  {
   "cell_type": "code",
   "execution_count": null,
   "metadata": {},
   "outputs": [],
   "source": [
    "topten_return_df = tmdb_movies_df.sort_values(by=['return'], ascending = False)[['return','title']].head(10)"
   ]
  },
  {
   "cell_type": "code",
   "execution_count": null,
   "metadata": {},
   "outputs": [],
   "source": [
    "topten_return_df = topten_return_df.rename(columns = {'title': 'Title','return': 'Return'})"
   ]
  },
  {
   "cell_type": "code",
   "execution_count": null,
   "metadata": {},
   "outputs": [],
   "source": [
    "topten_return_df"
   ]
  },
  {
   "cell_type": "code",
   "execution_count": null,
   "metadata": {},
   "outputs": [],
   "source": [
    "#Return top 10 graph\n",
    "sns.set()\n",
    "plt.figure(figsize=(12,6))\n",
    "plt.title(\"Top 10 Movie Returns\")\n",
    "returngraph = sns.barplot(x = 'Title', y = 'Return', data=topten_return_df)\n",
    "for item in returngraph.get_xticklabels():\n",
    "    item.set_rotation(20)"
   ]
  },
  {
   "cell_type": "code",
   "execution_count": null,
   "metadata": {},
   "outputs": [],
   "source": [
    "topten_returngoodbudget_df = tmdb_movies_df[tmdb_movies_df['budget'] > 5e6][['title','return']].sort_values('return', ascending=False).head(10)"
   ]
  },
  {
   "cell_type": "code",
   "execution_count": null,
   "metadata": {},
   "outputs": [],
   "source": [
    "topten_returngoodbudget_df = topten_returngoodbudget_df.rename(columns = {'title': 'Title','return': 'Return'})"
   ]
  },
  {
   "cell_type": "code",
   "execution_count": null,
   "metadata": {},
   "outputs": [],
   "source": [
    "topten_returngoodbudget_df"
   ]
  },
  {
   "cell_type": "code",
   "execution_count": null,
   "metadata": {},
   "outputs": [],
   "source": [
    "#Return with good budget top 10 graph\n",
    "sns.set()\n",
    "plt.figure(figsize=(12,6))\n",
    "plt.title(\"Top 10 Movie Returns having Budget more than 5 Million\")\n",
    "returngoodbudgetgraph = sns.barplot(x = 'Title', y = 'Return', data=topten_returngoodbudget_df)\n",
    "for item in returngoodbudgetgraph.get_xticklabels():\n",
    "    item.set_rotation(20)"
   ]
  },
  {
   "cell_type": "code",
   "execution_count": null,
   "metadata": {},
   "outputs": [],
   "source": [
    "budgetrevenuereturn_notnull_df = tmdb_movies_df[tmdb_movies_df['revenue'].notnull() & tmdb_movies_df['budget'].notnull() & tmdb_movies_df['return'].notnull()]"
   ]
  },
  {
   "cell_type": "code",
   "execution_count": null,
   "metadata": {},
   "outputs": [],
   "source": [
    "budgetrevenuereturn_notnull_df.head(3)"
   ]
  },
  {
   "cell_type": "code",
   "execution_count": null,
   "metadata": {},
   "outputs": [],
   "source": [
    "return_list = budgetrevenuereturn_notnull_df['return'].tolist()"
   ]
  },
  {
   "cell_type": "code",
   "execution_count": null,
   "metadata": {},
   "outputs": [],
   "source": [
    "budgetrevenuereturn_notnull_df[budgetrevenuereturn_notnull_df['return'] < 1].head(3)"
   ]
  },
  {
   "cell_type": "code",
   "execution_count": null,
   "metadata": {},
   "outputs": [],
   "source": [
    "#  Getting movie is Hit or Flop using return_list\n",
    "hit_flop = []\n",
    "for i in return_list:\n",
    "    if (i > 1):\n",
    "        hit_flop.append('Hit')\n",
    "    else:\n",
    "        hit_flop.append('Flop')"
   ]
  },
  {
   "cell_type": "code",
   "execution_count": null,
   "metadata": {},
   "outputs": [],
   "source": [
    "hit_flop = np.asarray(hit_flop)"
   ]
  },
  {
   "cell_type": "code",
   "execution_count": null,
   "metadata": {},
   "outputs": [],
   "source": [
    "hit_flop"
   ]
  },
  {
   "cell_type": "code",
   "execution_count": null,
   "metadata": {},
   "outputs": [],
   "source": [
    "budgetrevenuereturn_notnull_df['Hit/Flop'] = hit_flop"
   ]
  },
  {
   "cell_type": "code",
   "execution_count": null,
   "metadata": {},
   "outputs": [],
   "source": [
    "budgetrevenuereturn_notnull_df['Hit/Flop'].value_counts()"
   ]
  },
  {
   "cell_type": "code",
   "execution_count": null,
   "metadata": {},
   "outputs": [],
   "source": [
    "hitflop_df = pd.DataFrame({'Hit/Flop':budgetrevenuereturn_notnull_df['Hit/Flop'].value_counts().index,'Count':budgetrevenuereturn_notnull_df['Hit/Flop'].value_counts().values},index = range(2))"
   ]
  },
  {
   "cell_type": "code",
   "execution_count": null,
   "metadata": {},
   "outputs": [],
   "source": [
    "hitflop_df"
   ]
  },
  {
   "cell_type": "code",
   "execution_count": null,
   "metadata": {},
   "outputs": [],
   "source": [
    "#Hit or Flop Count\n",
    "sns.set()\n",
    "plt.figure(figsize=(3,5))\n",
    "plt.title(\"Hit VS Flop Movies\")\n",
    "sns.barplot(x = 'Hit/Flop', y = 'Count', data=hitflop_df)"
   ]
  },
  {
   "cell_type": "code",
   "execution_count": null,
   "metadata": {},
   "outputs": [],
   "source": [
    "hitflop_df2 = pd.DataFrame({'':budgetrevenuereturn_notnull_df['Hit/Flop'].value_counts().values},index = ['Hit', 'Flop'])"
   ]
  },
  {
   "cell_type": "code",
   "execution_count": null,
   "metadata": {},
   "outputs": [],
   "source": [
    "hitflop_df2"
   ]
  },
  {
   "cell_type": "code",
   "execution_count": null,
   "metadata": {},
   "outputs": [],
   "source": [
    "#  Pie plot for Hit and Flop\n",
    "hitflop_df2.plot.pie(y = '', figsize=(7,7),autopct='%.2f')"
   ]
  },
  {
   "cell_type": "code",
   "execution_count": null,
   "metadata": {},
   "outputs": [],
   "source": [
    "# Plotting worldcloud for the title of the movies\n",
    "from wordcloud import WordCloud, STOPWORDS\n",
    "tmdb_movies_df['title'] = tmdb_movies_df['title'].astype('str')\n",
    "title_corpus = ' '.join(tmdb_movies_df['title'])\n",
    "title_wordcloud = WordCloud(stopwords=STOPWORDS, background_color='black', height=2000, width=4000).generate(title_corpus)\n",
    "plt.figure(figsize=(16,8))\n",
    "plt.imshow(title_wordcloud)\n",
    "plt.axis('off')\n",
    "plt.show()"
   ]
  }
 ],
 "metadata": {
  "kernelspec": {
   "display_name": "Python 3",
   "language": "python",
   "name": "python3"
  },
  "language_info": {
   "codemirror_mode": {
    "name": "ipython",
    "version": 3
   },
   "file_extension": ".py",
   "mimetype": "text/x-python",
   "name": "python",
   "nbconvert_exporter": "python",
   "pygments_lexer": "ipython3",
   "version": "3.7.4"
  }
 },
 "nbformat": 4,
 "nbformat_minor": 2
}
