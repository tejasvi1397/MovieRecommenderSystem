{
 "cells": [
  {
   "cell_type": "code",
   "execution_count": null,
   "metadata": {},
   "outputs": [],
   "source": [
    "# Importing pandas, numpy and matplotlib pyplot\n",
    "import pandas as pd\n",
    "import numpy as np\n",
    "import matplotlib.pyplot as plt\n",
    "%matplotlib inline"
   ]
  },
  {
   "cell_type": "code",
   "execution_count": null,
   "metadata": {},
   "outputs": [],
   "source": [
    "#  Reading required files and creating dataframes\n",
    "tmdb_movies_df = pd.read_csv('tmdb-movie-metadata/tmdb_5000_movies.csv')\n",
    "tmdb_credits_df = pd.read_csv('tmdb-movie-metadata/tmdb_5000_credits.csv')"
   ]
  },
  {
   "cell_type": "markdown",
   "metadata": {},
   "source": [
    "# Demographic Filtering System"
   ]
  },
  {
   "cell_type": "code",
   "execution_count": null,
   "metadata": {},
   "outputs": [],
   "source": [
    "# Rounding of popularity column to 2 decimal points\n",
    "tmdb_movies_df.popularity = tmdb_movies_df.popularity.round(2)"
   ]
  },
  {
   "cell_type": "code",
   "execution_count": null,
   "metadata": {},
   "outputs": [],
   "source": [
    "# Plotting top 10 movies based on popularity \n",
    "pop= tmdb_movies_df.sort_values('popularity', ascending=False)\n",
    "plt.figure(figsize=(10,4))\n",
    "plt.barh(pop['title'].head(10),pop['popularity'].head(10), align='center',\n",
    "        color='red')\n",
    "plt.gca().invert_yaxis()\n",
    "for index, value in enumerate(pop['popularity'].head(10)):\n",
    "    plt.text(value, index, str(value))\n",
    "plt.xlabel(\"Popularity\")\n",
    "plt.title(\"Popular Movies\")"
   ]
  },
  {
   "cell_type": "code",
   "execution_count": null,
   "metadata": {},
   "outputs": [],
   "source": [
    "# Calculating mean of vote_average column\n",
    "vmean= tmdb_movies_df['vote_average'].mean()\n",
    "\n",
    "# Calculating 95 quantile of vote_average column\n",
    "vquant= tmdb_movies_df['vote_count'].quantile(0.95)\n",
    "\n",
    "top_movies = tmdb_movies_df.copy().loc[tmdb_movies_df['vote_count'] >= vquant]"
   ]
  },
  {
   "cell_type": "code",
   "execution_count": null,
   "metadata": {},
   "outputs": [],
   "source": [
    "# Function to calculate score based on the IMDB formula\n",
    "def score(x, m=vquant, vmean=vmean):\n",
    "    v = x['vote_count']\n",
    "    R = x['vote_average']\n",
    "    return (v/(v+vquant) * R) + (vquant/(vquant+v) * vmean)"
   ]
  },
  {
   "cell_type": "code",
   "execution_count": null,
   "metadata": {},
   "outputs": [],
   "source": [
    "# Creating new column score using score calcuclated with score function \n",
    "top_movies['score'] = top_movies.apply(score, axis=1)\n",
    "\n",
    "# Rounding of score column to 2 decimal points \n",
    "top_movies.score = top_movies.score.round(2)\n",
    "\n",
    "#Sort movies based on score calculated above\n",
    "top_movies = top_movies.sort_values('score', ascending=False)\n",
    "\n",
    "#Print the top 5 movies\n",
    "top_movies[['title', 'vote_count', 'vote_average', 'score']].head()"
   ]
  },
  {
   "cell_type": "code",
   "execution_count": null,
   "metadata": {},
   "outputs": [],
   "source": [
    "# Plotting top 10 movies based on score \n",
    "pop= top_movies.sort_values('score', ascending=False)\n",
    "plt.figure(figsize=(10,4))\n",
    "\n",
    "plt.barh(pop['title'].head(10),pop['score'].head(10), align='center',\n",
    "        color='blue')\n",
    "plt.gca().invert_yaxis()\n",
    "for index, value in enumerate(pop['score'].head(10)):\n",
    "    plt.text(value, index, str(value))\n",
    "plt.xlabel(\"Score\")\n",
    "plt.title(\"Highest Rated Movies\")"
   ]
  },
  {
   "cell_type": "markdown",
   "metadata": {},
   "source": [
    "# Content-Based Recommender System"
   ]
  },
  {
   "cell_type": "code",
   "execution_count": null,
   "metadata": {},
   "outputs": [],
   "source": [
    "# Importing literal_eval to convert unstringify json objects\n",
    "from ast import literal_eval"
   ]
  },
  {
   "cell_type": "code",
   "execution_count": null,
   "metadata": {},
   "outputs": [],
   "source": [
    "# Data Preprocessing to convert data into required format"
   ]
  },
  {
   "cell_type": "code",
   "execution_count": null,
   "metadata": {},
   "outputs": [],
   "source": [
    "# Filling not available values with empty strings\n",
    "tmdb_movies_df['overview'] = tmdb_movies_df['overview'].fillna('')"
   ]
  },
  {
   "cell_type": "code",
   "execution_count": null,
   "metadata": {},
   "outputs": [],
   "source": [
    "# Changing Keywords and Genres columns into single simple column\n",
    "\n",
    "# Coverting Keywords and Generes columns from string format to object\n",
    "tmdb_movies_df['keywords'] = tmdb_movies_df['keywords'].apply(literal_eval)\n",
    "tmdb_movies_df['genres'] = tmdb_movies_df['genres'].apply(literal_eval)\n",
    "\n",
    "Keywords_list = []\n",
    "movie_keywords = ''\n",
    "for i in tmdb_movies_df['keywords']:\n",
    "    for j in i:\n",
    "        # Replaces the space between 2 words of keywords \n",
    "        kname = j['name'].replace(\" \", \"\")\n",
    "        # Changing all upper case letters to lower case\n",
    "        movie_keywords = movie_keywords +' ' +kname.lower()\n",
    "    Keywords_list.append(movie_keywords)\n",
    "    movie_keywords = ''\n",
    "len(Keywords_list)    \n",
    "Keywords_series = pd.Series(Keywords_list)\n",
    "Keywords_series.name = 'New_Keywords'\n",
    "\n",
    "genres_list = []\n",
    "movie_genres = ''\n",
    "for i in tmdb_movies_df['genres']:\n",
    "    for j in i:\n",
    "        # Replaces the space between 2 words of genres\n",
    "        gname = j['name'].replace(\" \", \"\")\n",
    "        # Changing all upper case letters to lower case\n",
    "        movie_genres = movie_genres +' ' +gname.lower()\n",
    "    genres_list.append(movie_genres)\n",
    "    movie_genres = ''   \n",
    "Genres_series = pd.Series(genres_list)\n",
    "Genres_series.name = 'New_Genres'\n",
    "\n",
    "New_movie_df = tmdb_movies_df.join(Keywords_series)\n",
    "New_movie_df = New_movie_df.join(Genres_series)\n",
    "\n",
    "# Adding modified Keywords nad genres into single column\n",
    "New_movie_df['Key_Gen'] = New_movie_df['New_Keywords'] + New_movie_df['New_Genres']"
   ]
  },
  {
   "cell_type": "code",
   "execution_count": null,
   "metadata": {},
   "outputs": [],
   "source": [
    "# Extracting top 4 actors from cast column and director from crew column, then combining both into single simple column\n",
    "\n",
    "# Coverting cast and crew columns from string format to object\n",
    "tmdb_credits_df['cast'] = tmdb_credits_df['cast'].apply(literal_eval)\n",
    "tmdb_credits_df['crew'] = tmdb_credits_df['crew'].apply(literal_eval)\n",
    "\n",
    "# Extracting top 4 actors\n",
    "cast_list = []\n",
    "movie_cast = ''\n",
    "for i in tmdb_credits_df['cast']:\n",
    "    check = 0\n",
    "    for j in i:\n",
    "        if check < 4:\n",
    "            cname = j['name'].replace(\" \", \"\")\n",
    "            movie_cast = movie_cast +' ' +cname.lower()\n",
    "        check = check + 1\n",
    "    cast_list.append(movie_cast)\n",
    "    movie_cast = ''\n",
    "\n",
    "Cast_series = pd.Series(cast_list)\n",
    "Cast_series.name = 'Top_Cast'\n",
    "New_movie_df = New_movie_df.join(Cast_series)\n",
    "\n",
    "# Extracting movie director/s \n",
    "director_list = []\n",
    "movie_director = ''\n",
    "for i in tmdb_credits_df['crew']:\n",
    "    for j in i:\n",
    "        if(j['job'] == 'Director'):\n",
    "            dname = j['name'].replace(\" \", \"\")\n",
    "            movie_director = movie_director +' ' +dname.lower()\n",
    "    director_list.append(movie_director)\n",
    "    movie_director = ''\n",
    "\n",
    "director_series = pd.Series(director_list)\n",
    "director_series.name = 'Director'\n",
    "New_movie_df = New_movie_df.join(director_series)\n",
    "\n",
    "# Combining top actors and director into single column\n",
    "New_movie_df['Cast_Director'] = New_movie_df['Director'] + New_movie_df['Top_Cast']"
   ]
  },
  {
   "cell_type": "code",
   "execution_count": null,
   "metadata": {},
   "outputs": [],
   "source": [
    "# Creating new column by combining Keywords, generes, top 4 actors and director of the movie\n",
    "New_movie_df['Combined'] = New_movie_df['Key_Gen'] + New_movie_df['Cast_Director']"
   ]
  },
  {
   "cell_type": "code",
   "execution_count": null,
   "metadata": {},
   "outputs": [],
   "source": [
    "# Now designing content based recommender systems with different combinations"
   ]
  },
  {
   "cell_type": "code",
   "execution_count": null,
   "metadata": {},
   "outputs": [],
   "source": [
    "# Importing TFIDFVectorizer, CountVectorizer and CosineSimilarty\n",
    "from sklearn.feature_extraction.text import TfidfVectorizer\n",
    "from sklearn.metrics.pairwise import cosine_similarity\n",
    "from sklearn.feature_extraction.text import CountVectorizer"
   ]
  },
  {
   "cell_type": "code",
   "execution_count": null,
   "metadata": {},
   "outputs": [],
   "source": [
    "# Creating function to compare cosine similarty and provide top 10 similar movies \n",
    "def movie_recommend(mtitle, cosSim):\n",
    "    indx = index_series[mtitle]\n",
    "    scores_similarity = list(enumerate(cosSim[indx]))\n",
    "    scores_similarity = sorted(scores_similarity, key=lambda x: x[1], reverse=True)\n",
    "    scores_similarity = scores_similarity[1:11]\n",
    "    mindices = []\n",
    "    for i in scores_similarity:\n",
    "            mindices.append(i[0])\n",
    "    return tmdb_movies_df['title'].iloc[mindices]"
   ]
  },
  {
   "cell_type": "code",
   "execution_count": null,
   "metadata": {},
   "outputs": [],
   "source": [
    "# Creating TFIDF matrix using Overview column\n",
    "tfidfvec = TfidfVectorizer(stop_words='english')\n",
    "tfidf_mtx = tfidfvec.fit_transform(tmdb_movies_df['overview'])\n",
    "\n",
    "# Calculating cosine similarty with tfidf matrix\n",
    "cosSim_1 = cosine_similarity(tfidf_mtx, tfidf_mtx)\n",
    "\n",
    "# Setting title of the movie as index of movie dataframe\n",
    "index_series = pd.Series(tmdb_movies_df.index, index=tmdb_movies_df['title'])"
   ]
  },
  {
   "cell_type": "code",
   "execution_count": null,
   "metadata": {},
   "outputs": [],
   "source": [
    "# Recommending movie on the basis of plot of the movie(overview)\n",
    "movie_recommend('Interstellar', cosSim_1)"
   ]
  },
  {
   "cell_type": "code",
   "execution_count": null,
   "metadata": {},
   "outputs": [],
   "source": [
    "# Creating TFIDF matrix using Key_Gen column(Combination of Keywords and Genres of the movie)\n",
    "tfidf_1 = TfidfVectorizer(stop_words='english')\n",
    "tfidf_mtx_1 = tfidf_1.fit_transform(New_movie_df['Key_Gen'])\n",
    "\n",
    "# Calculating cosine similarty with tfidf matrix\n",
    "cosSim_2 = cosine_similarity(tfidf_mtx_1, tfidf_mtx_1)\n",
    "\n",
    "# Setting title of the movie as index of New movie dataframe\n",
    "New_movie_df = New_movie_df.reset_index()\n",
    "index_series = pd.Series(New_movie_df.index, index=New_movie_df['title'])"
   ]
  },
  {
   "cell_type": "code",
   "execution_count": null,
   "metadata": {},
   "outputs": [],
   "source": [
    "# Recommending movie on the basis of Keywords and Genres of the movie\n",
    "movie_recommend('Interstellar', cosSim_2)"
   ]
  },
  {
   "cell_type": "code",
   "execution_count": null,
   "metadata": {},
   "outputs": [],
   "source": [
    "# Creating count vector matrix using Cast_Director column(Combination of director and top 4 actors of the movie)\n",
    "count_vector = CountVectorizer(stop_words='english')\n",
    "count_vector_matrix = count_vector.fit_transform(New_movie_df['Cast_Director'])\n",
    "\n",
    "# Calculating cosine similarty with count vector matrix\n",
    "cosSim_3 = cosine_similarity(count_vector_matrix, count_vector_matrix)\n",
    "\n",
    "# Resetting the index\n",
    "New_movie_df = New_movie_df.reset_index()\n",
    "index_series = pd.Series(New_movie_df.index, index=New_movie_df['title'])"
   ]
  },
  {
   "cell_type": "code",
   "execution_count": null,
   "metadata": {},
   "outputs": [],
   "source": [
    "# Recommending movie on the basis of Cast(top 4 actors) and Crew(director) of the movie\n",
    "movie_recommend('Interstellar', cosSim_3)"
   ]
  },
  {
   "cell_type": "code",
   "execution_count": null,
   "metadata": {},
   "outputs": [],
   "source": [
    "# Creating count vector matrix using Combined column(Combination of keywords, genres, director and top 4 actors of the movie)\n",
    "count_vector_1 = CountVectorizer(stop_words='english')\n",
    "count_vector_matrix_1 = count_vector_1.fit_transform(New_movie_df['Combined'])\n",
    "\n",
    "# Calculating cosine similarty with count vector matrix\n",
    "cosSim_4 = cosine_similarity(count_vector_matrix_1, count_vector_matrix_1)"
   ]
  },
  {
   "cell_type": "code",
   "execution_count": null,
   "metadata": {},
   "outputs": [],
   "source": [
    "# Recommending movie on the basis of Cast(top 4 actors) and Crew(director) of the movie\n",
    "movie_recommend('Interstellar', cosSim_4)"
   ]
  },
  {
   "cell_type": "markdown",
   "metadata": {},
   "source": [
    "# Collabarative Filtering System"
   ]
  },
  {
   "cell_type": "code",
   "execution_count": null,
   "metadata": {},
   "outputs": [],
   "source": [
    "# Reading movie file with specific columns and chnaging id column name to movieId\n",
    "movies_df = pd.read_csv('tmdb-movie-metadata/tmdb_5000_movies.csv', usecols = ['id','title','genres'])\n",
    "movies_df.rename(columns = {\"id\":\"movieId\"}, inplace = True)\n",
    "movies_df.head()"
   ]
  },
  {
   "cell_type": "code",
   "execution_count": null,
   "metadata": {},
   "outputs": [],
   "source": [
    "# Coverting genres column from string format to object\n",
    "movies_df['genres'] = movies_df['genres'].apply(literal_eval)\n",
    "movies_df['genres'] = movies_df['genres'].apply(lambda x: [i['name'] for i in x])"
   ]
  },
  {
   "cell_type": "code",
   "execution_count": null,
   "metadata": {},
   "outputs": [],
   "source": [
    "# Reading rating file\n",
    "ratings_df = pd.read_csv('the-movies-dataset/ratings_small.csv')\n",
    "ratings_df.head()"
   ]
  },
  {
   "cell_type": "code",
   "execution_count": null,
   "metadata": {},
   "outputs": [],
   "source": [
    "# Creating ratings matrix\n",
    "rating_matrix = ratings_df.pivot(index = 'userId', columns ='movieId', values = 'rating').fillna(0)\n",
    "rating_matrix.head()"
   ]
  },
  {
   "cell_type": "code",
   "execution_count": null,
   "metadata": {},
   "outputs": [],
   "source": [
    "# Converting to matrix format\n",
    "rating_matrix = rating_matrix.as_matrix()\n",
    "rating_matrix.shape"
   ]
  },
  {
   "cell_type": "code",
   "execution_count": null,
   "metadata": {},
   "outputs": [],
   "source": [
    "# Subtract each users mean to denormalize\n",
    "ratings_mean_each_user = np.mean(rating_matrix, axis = 1)\n",
    "ratings_mean_each_user = ratings_mean_each_user.reshape(-1,1)\n",
    "rating_matrix = rating_matrix - ratings_mean_each_user\n",
    "rating_matrix"
   ]
  },
  {
   "cell_type": "code",
   "execution_count": null,
   "metadata": {},
   "outputs": [],
   "source": [
    "# importing svds to perform manual svds (for matrix factorization)\n",
    "from scipy.sparse.linalg import svds\n",
    "U, sigma, Vt = svds(rating_matrix , k = 50)\n",
    "sigma = np.diag(sigma)"
   ]
  },
  {
   "cell_type": "code",
   "execution_count": null,
   "metadata": {},
   "outputs": [],
   "source": [
    "#dot product of U, sigma and Vt which gives us an array of predicted ratings for all users\n",
    "predicted_ratingsSVD = np.dot(np.dot(U, sigma), Vt) + ratings_mean_each_user.reshape(-1, 1)"
   ]
  },
  {
   "cell_type": "code",
   "execution_count": null,
   "metadata": {},
   "outputs": [],
   "source": [
    "#temp df used for naming columns\n",
    "temp_df = ratings_df.pivot(index = 'userId', columns ='movieId', values = 'rating').fillna(0)"
   ]
  },
  {
   "cell_type": "code",
   "execution_count": null,
   "metadata": {},
   "outputs": [],
   "source": [
    "#array of predicted ratings for all users converted to a dataframe\n",
    "predicted_ratingsSVD_DF = pd.DataFrame(predicted_ratingsSVD, columns = temp_df.columns)\n",
    "predicted_ratingsSVD_DF.head()"
   ]
  },
  {
   "cell_type": "code",
   "execution_count": null,
   "metadata": {},
   "outputs": [],
   "source": [
    "#predicted ratings for user 10 sorted in descending order\n",
    "userid = 10\n",
    "predicted_ratingsUser10 = predicted_ratingsSVD_DF.iloc[userid - 1].sort_values(ascending=False)\n",
    "predicted_ratingsUser10"
   ]
  },
  {
   "cell_type": "code",
   "execution_count": null,
   "metadata": {},
   "outputs": [],
   "source": [
    "#data of user 10 from ratings df\n",
    "user_data = ratings_df[ratings_df['userId'] == 10]"
   ]
  },
  {
   "cell_type": "code",
   "execution_count": null,
   "metadata": {},
   "outputs": [],
   "source": [
    "#dataframe of movies rated by user 10\n",
    "movies_rated_df = (user_data.merge(movies_df,how = 'left',on = 'movieId').sort_values(['rating'], ascending=False))"
   ]
  },
  {
   "cell_type": "code",
   "execution_count": null,
   "metadata": {},
   "outputs": [],
   "source": [
    "# Removing movies which are not available\n",
    "movies_rated_df = movies_rated_df.dropna()\n",
    "\n",
    "# Top movies already rated by user 10\n",
    "movies_rated_df.head(10)"
   ]
  },
  {
   "cell_type": "code",
   "execution_count": null,
   "metadata": {},
   "outputs": [],
   "source": [
    "#Recommending movies to user with userid = 10\n",
    "collaborative_recommendations = movies_df[~movies_df['movieId'].isin(movies_rated_df['movieId'])].merge(pd.DataFrame(predicted_ratingsUser10).reset_index(), on = 'movieId').rename(columns = {9: 'PredictedRatingNormalized'})"
   ]
  },
  {
   "cell_type": "code",
   "execution_count": null,
   "metadata": {},
   "outputs": [],
   "source": [
    "# Recommending movies to user with userid = 10 sorted by ratings in descending order\n",
    "collaborative_recommendations = collaborative_recommendations.sort_values('PredictedRatingNormalized', ascending=False)"
   ]
  },
  {
   "cell_type": "code",
   "execution_count": null,
   "metadata": {},
   "outputs": [],
   "source": [
    "# Importing Reader, Dataset, SVD and for evaluation cross_validate\n",
    "from surprise import Reader, Dataset, SVD\n",
    "from surprise.model_selection import cross_validate"
   ]
  },
  {
   "cell_type": "code",
   "execution_count": null,
   "metadata": {},
   "outputs": [],
   "source": [
    "# Load Reader library\n",
    "reader = Reader()\n",
    "\n",
    "# Load ratings dataset with Dataset library\n",
    "data = Dataset.load_from_df(ratings_df[['userId', 'movieId', 'rating']], reader)"
   ]
  },
  {
   "cell_type": "code",
   "execution_count": null,
   "metadata": {},
   "outputs": [],
   "source": [
    "#calling the inbuilt SVD class in surprise package and assigning an object\n",
    "svd = SVD()"
   ]
  },
  {
   "cell_type": "code",
   "execution_count": null,
   "metadata": {},
   "outputs": [],
   "source": [
    "#building trainset\n",
    "trainset = data.build_full_trainset()\n",
    "svd.fit(trainset)"
   ]
  },
  {
   "cell_type": "code",
   "execution_count": null,
   "metadata": {},
   "outputs": [],
   "source": [
    "ratings_df[ratings_df['userId'] == 10].head()"
   ]
  },
  {
   "cell_type": "code",
   "execution_count": null,
   "metadata": {},
   "outputs": [],
   "source": [
    "# For user with userid = 10 predicting rating for movie with movieid = 1994\n",
    "svd.predict(10, 1994)"
   ]
  },
  {
   "cell_type": "code",
   "execution_count": null,
   "metadata": {},
   "outputs": [],
   "source": [
    "#calculating the RMSE using 5 fold cross validation\n",
    "cross_validate(svd, data, measures=['RMSE'], cv=5, verbose=True)"
   ]
  }
 ],
 "metadata": {
  "kernelspec": {
   "display_name": "Python 3",
   "language": "python",
   "name": "python3"
  },
  "language_info": {
   "codemirror_mode": {
    "name": "ipython",
    "version": 3
   },
   "file_extension": ".py",
   "mimetype": "text/x-python",
   "name": "python",
   "nbconvert_exporter": "python",
   "pygments_lexer": "ipython3",
   "version": "3.7.4"
  }
 },
 "nbformat": 4,
 "nbformat_minor": 2
}
